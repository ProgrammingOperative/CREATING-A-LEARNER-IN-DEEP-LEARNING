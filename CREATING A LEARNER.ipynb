{
 "cells": [
  {
   "cell_type": "code",
   "execution_count": 1,
   "id": "207b4853",
   "metadata": {},
   "outputs": [
    {
     "data": {
      "text/plain": [
       "<matplotlib.collections.PathCollection at 0x202c20ad3d0>"
      ]
     },
     "execution_count": 1,
     "metadata": {},
     "output_type": "execute_result"
    },
    {
     "data": {
      "image/png": "[encoded data removed]",
      "text/plain": [
       "<Figure size 432x288 with 1 Axes>"
      ]
     },
     "metadata": {
      "needs_background": "light"
     },
     "output_type": "display_data"
    }
   ],
   "source": [
    "#The graph below of speed takes the form of a quadratic equation i.e \"ax^2 + bx + c\"\n",
    "\n",
    "from fastai.vision.all import *\n",
    "\n",
    "time = torch.arange(0, 20)\n",
    "speed = 0.5*(time - 9)**2 + 0.9*time + 1\n",
    "\n",
    "plt.scatter(time, speed)"
   ]
  },
  {
   "cell_type": "code",
   "execution_count": 2,
   "id": "b9e0c78c",
   "metadata": {},
   "outputs": [],
   "source": [
    "#Solving the problem for three parameters of the equation before the real deal i.e the mnist data\n",
    "\n",
    "def f(time, params):\n",
    "    a,b,c = params\n",
    "    return a*(time**2) + b*time + c\n"
   ]
  },
  {
   "cell_type": "code",
   "execution_count": 3,
   "id": "4522bcf3",
   "metadata": {},
   "outputs": [],
   "source": [
    "'''A function that plots a graph of the predictions pred alongside the expected graph for easy \n",
    "visualization and follow up of progress while the weights are being updated'''\n",
    "def show_preds(preds, ax=None):\n",
    " if ax is None: ax=plt.subplots()[1]\n",
    " ax.scatter(time, speed)\n",
    " ax.scatter(time, to_np(preds), color='red')\n",
    " ax.set_ylim(-300,100)\n"
   ]
  },
  {
   "cell_type": "code",
   "execution_count": 4,
   "id": "cb6e701b",
   "metadata": {},
   "outputs": [
    {
     "data": {
      "text/plain": [
       "tensor([ 1.5350,  0.0895, -0.7681], requires_grad=True)"
      ]
     },
     "execution_count": 4,
     "metadata": {},
     "output_type": "execute_result"
    }
   ],
   "source": [
    "#STEP 1: INITIALIZE THE PARAMETERS\n",
    "\n",
    "\n",
    "'''\n",
    "Initialize our random numbers making sure their gradients are tracked for updates in the future\n",
    "\n",
    "requires_grad_() tells pytorch that we want to calculate gradient with respect\n",
    "to the variable at that value'''\n",
    "params = torch.randn(3).requires_grad_()\n",
    "params"
   ]
  },
  {
   "cell_type": "code",
   "execution_count": 5,
   "id": "a7fb0785",
   "metadata": {},
   "outputs": [
    {
     "data": {
      "text/plain": [
       "tensor([ -0.7681,   0.8565,   5.5511,  13.3158,  24.1505,  38.0554,  55.0302,\n",
       "         75.0752,  98.1902, 124.3752, 153.6303, 185.9555, 221.3507, 259.8160,\n",
       "        301.3513, 345.9568, 393.6322, 444.3778, 498.1934, 555.0790],\n",
       "       grad_fn=<AddBackward0>)"
      ]
     },
     "execution_count": 5,
     "metadata": {},
     "output_type": "execute_result"
    }
   ],
   "source": [
    "#STEP 2: CALCULATE THE PREDICTIONS\n",
    "\n",
    "pred = f(time, params)\n",
    "pred"
   ]
  },
  {
   "cell_type": "code",
   "execution_count": 6,
   "id": "37d8da36",
   "metadata": {},
   "outputs": [
    {
     "data": {
      "image/png": "[encoded data removed]",
      "text/plain": [
       "<Figure size 432x288 with 1 Axes>"
      ]
     },
     "metadata": {
      "needs_background": "light"
     },
     "output_type": "display_data"
    }
   ],
   "source": [
    "show_preds(pred)"
   ]
  },
  {
   "cell_type": "code",
   "execution_count": 7,
   "id": "8c5a2fad",
   "metadata": {},
   "outputs": [],
   "source": [
    "'''loss function that would show us how far we are from the actual/expected graph \n",
    "'''\n",
    "def loss_func(prediction, speed):\n",
    "    return ((speed-pred)**2).mean().sqrt()"
   ]
  },
  {
   "cell_type": "code",
   "execution_count": 8,
   "id": "f8850acf",
   "metadata": {},
   "outputs": [
    {
     "data": {
      "text/plain": [
       "TensorBase(53425.3672, grad_fn=<AliasBackward>)"
      ]
     },
     "execution_count": 8,
     "metadata": {},
     "output_type": "execute_result"
    }
   ],
   "source": [
    "# STEP 3: CALCULATE THE LOSS\n",
    "\n",
    "'''Using mean squared error instead of \"loss_func\"'''\n",
    "loss = mse(pred, speed)\n",
    "loss"
   ]
  },
  {
   "cell_type": "code",
   "execution_count": 9,
   "id": "a6f3cace",
   "metadata": {
    "scrolled": true
   },
   "outputs": [
    {
     "data": {
      "text/plain": [
       "tensor([0.7736, 0.0496, 0.0033])"
      ]
     },
     "execution_count": 9,
     "metadata": {},
     "output_type": "execute_result"
    }
   ],
   "source": [
    "# STEP 4: CALCULATE THE GRADIENTS\n",
    "\n",
    "\n",
    "'''Differentiate the loss to calculate gradient(Magnitude and direction calculated from loss function \n",
    "that would be used to update the parameters later) at each layer \n",
    "\n",
    "\"backward\" here refers to back propagation, a name given to the process of calculating derivative\n",
    "at each layer'''\n",
    "loss.backward()\n",
    "params.grad.data * 1e-5"
   ]
  },
  {
   "cell_type": "code",
   "execution_count": 10,
   "id": "d046c015",
   "metadata": {
    "scrolled": true
   },
   "outputs": [
    {
     "data": {
      "text/plain": [
       "tensor([ 1.5350,  0.0895, -0.7681])"
      ]
     },
     "execution_count": 10,
     "metadata": {},
     "output_type": "execute_result"
    }
   ],
   "source": [
    "params.data"
   ]
  },
  {
   "cell_type": "code",
   "execution_count": 11,
   "id": "70aa0662",
   "metadata": {},
   "outputs": [
    {
     "data": {
      "text/plain": [
       "tensor([ 0.7614,  0.0400, -0.7714])"
      ]
     },
     "execution_count": 11,
     "metadata": {},
     "output_type": "execute_result"
    }
   ],
   "source": [
    "# STEP 5: STEP THE WEIGHTS\n",
    "\n",
    "'''Updating the parameters based on the weights we just calculated\n",
    "'''\n",
    "\n",
    "lr = 1e-5 #1/100000\n",
    "params.data -= params.grad*lr\n",
    "params.data"
   ]
  },
  {
   "cell_type": "code",
   "execution_count": 12,
   "id": "80f1b4e0",
   "metadata": {},
   "outputs": [
    {
     "data": {
      "image/png": "[encoded data removed]",
      "text/plain": [
       "<Figure size 432x288 with 1 Axes>"
      ]
     },
     "metadata": {
      "needs_background": "light"
     },
     "output_type": "display_data"
    }
   ],
   "source": [
    "pred = f(time, params)\n",
    "show_preds(pred)"
   ]
  },
  {
   "cell_type": "code",
   "execution_count": 13,
   "id": "c6dcdcf9",
   "metadata": {},
   "outputs": [],
   "source": [
    "'''We need to repeat this a few times, so we’ll create a function to apply\n",
    "one step'''\n",
    "\n",
    "\n",
    "def apply_step(parameters):\n",
    "    pred = f(time, parameters)\n",
    "    loss = mse(pred, speed)\n",
    "    loss.backward()\n",
    "    lr = 1e-5\n",
    "    parameters.data -= parameters.grad*lr\n",
    "    parameters.grad = None\n",
    "    print(f\"loss: {loss}\")\n",
    "    return pred"
   ]
  },
  {
   "cell_type": "code",
   "execution_count": 14,
   "id": "70293ded",
   "metadata": {},
   "outputs": [
    {
     "name": "stdout",
     "output_type": "stream",
     "text": [
      "loss: 10307.056640625\n",
      "loss: 7752.5849609375\n"
     ]
    }
   ],
   "source": [
    "#STEP 6: REPEAT THE PROCESS\n",
    "\n",
    "'''Iterate the stepping until you get a good result\n",
    "\n",
    "After each iteration the global parameters are altered such that during the next iteration the\n",
    "apply_step function takes in the updated parameters as input'''\n",
    "\n",
    "for i in range(2):\n",
    "    apply_step(params)"
   ]
  },
  {
   "cell_type": "code",
   "execution_count": 15,
   "id": "901a5ae9",
   "metadata": {
    "scrolled": true
   },
   "outputs": [
    {
     "name": "stdout",
     "output_type": "stream",
     "text": [
      "loss: 1664.366455078125\n",
      "loss: 512.2874755859375\n",
      "loss: 294.2767639160156\n",
      "loss: 253.0204620361328\n"
     ]
    },
    {
     "data": {
      "image/png": "[encoded data removed]",
      "text/plain": [
       "<Figure size 864x216 with 4 Axes>"
      ]
     },
     "metadata": {
      "needs_background": "light"
     },
     "output_type": "display_data"
    }
   ],
   "source": [
    "'''\n",
    "Plotting the function at every step to see how it looks as it approaches the\n",
    "best quadratic function'''\n",
    "\n",
    "_,axs = plt.subplots(1,4,figsize=(12,3))\n",
    "for ax in axs: show_preds(apply_step(params), ax)\n",
    "plt.tight_layout()\n"
   ]
  },
  {
   "cell_type": "code",
   "execution_count": 16,
   "id": "d2f6cd1d",
   "metadata": {},
   "outputs": [
    {
     "data": {
      "text/plain": [
       "\"We've arbitrary stopped after 10 iterations but in practice we would watch our losses and\\nmetrics before we made our decision to stop\""
      ]
     },
     "execution_count": 16,
     "metadata": {},
     "output_type": "execute_result"
    }
   ],
   "source": [
    "#STEP 7: STOP\n",
    "\n",
    "'''We've arbitrary stopped after 10 iterations but in practice we would watch our losses and\n",
    "metrics before we made our decision to stop'''"
   ]
  },
  {
   "cell_type": "markdown",
   "id": "4bec6eae",
   "metadata": {},
   "source": [
    "## GOING TO THE REAL DEAL!"
   ]
  },
  {
   "cell_type": "code",
   "execution_count": 17,
   "id": "61e1f58c",
   "metadata": {},
   "outputs": [],
   "source": [
    "#Download/get the dataset and create their tensor\n",
    "path = untar_data(URLs.MNIST_SAMPLE)\n",
    "threes = (path/'train/3').ls()\n",
    "three_tensor = [tensor(Image.open(o)) for o in threes]\n",
    "\n",
    "sevens = (path/'train/7').ls()\n",
    "sevens_tensor = [tensor(Image.open(o)) for o in sevens]\n"
   ]
  },
  {
   "cell_type": "code",
   "execution_count": 18,
   "id": "d1ce4e4e",
   "metadata": {},
   "outputs": [],
   "source": [
    "#Stacking the picture tensors together\n",
    "#Stacking the threes and sevens and making the value of the pixels floats of between 0 and 1\n",
    "\n",
    "stacked_threes = torch.stack(three_tensor).float()/255\n",
    "stacked_sevens = torch.stack(sevens_tensor).float()/255"
   ]
  },
  {
   "cell_type": "code",
   "execution_count": 19,
   "id": "593d51ba",
   "metadata": {},
   "outputs": [
    {
     "data": {
      "text/plain": [
       "torch.Size([12396, 784])"
      ]
     },
     "execution_count": 19,
     "metadata": {},
     "output_type": "execute_result"
    }
   ],
   "source": [
    "#Creating training independent varibles i.e train_x\n",
    "'''Concatenating our inputs images (stacked_threes, stacked_Sevens) into a single tensor using the\n",
    "\"view\" function and also change them from a list of matrices (a rank-3 tensor) to a list of vectors\n",
    "(a rank-2 tensor)'''\n",
    "train_x = torch.cat([stacked_threes, stacked_sevens]).view(-1, 28*28)\n",
    "train_x.shape"
   ]
  },
  {
   "cell_type": "code",
   "execution_count": 20,
   "id": "026e1a5b",
   "metadata": {},
   "outputs": [
    {
     "data": {
      "text/plain": [
       "torch.Size([12396])"
      ]
     },
     "execution_count": 20,
     "metadata": {},
     "output_type": "execute_result"
    }
   ],
   "source": [
    "#Creating training dependent varibles i.e train_y\n",
    "\n",
    "'''Unsqueeze(1) - Adds one dimension on axis 1(y-axis) therefore the dataset takes the shape of\n",
    "[12396,1]'''\n",
    "\n",
    "train_y = tensor([1]*len(threes) + [0]*len(sevens))\n",
    "train_y.shape"
   ]
  },
  {
   "cell_type": "code",
   "execution_count": 21,
   "id": "36866e56",
   "metadata": {},
   "outputs": [],
   "source": [
    "'''1. The zip() function returns a zip object, which is an iterator of tuples where the first item in \n",
    "each passed iterator is paired together,and then the second item in each passed iterator are paired \n",
    "together etc.'''\n",
    "\n",
    "'''2. A Dataset in PyTorch is required to return a tuple of (x,y) when indexed.\n",
    "Python provides a zip function that, when combined with list, provides a simple\n",
    "way to get this functionality:'''\n",
    "\n",
    "train_dset = list(zip(train_x, train_y))"
   ]
  },
  {
   "cell_type": "code",
   "execution_count": 22,
   "id": "1c601cd9",
   "metadata": {
    "scrolled": true
   },
   "outputs": [
    {
     "data": {
      "text/plain": [
       "(torch.Size([2038, 784]), torch.Size([2038, 1]))"
      ]
     },
     "execution_count": 22,
     "metadata": {},
     "output_type": "execute_result"
    }
   ],
   "source": [
    "path = untar_data(URLs.MNIST_SAMPLE)/'valid'\n",
    "valid_3s = (path/'3/').ls()\n",
    "valid_7s = (path/'7/').ls()\n",
    "\n",
    "valid_3s_tensors = [tensor(Image.open(o)) for o in valid_3s]\n",
    "valid_7s_tensors = [tensor(Image.open(o)) for o in valid_7s]\n",
    "\n",
    "stacked_valid_3s = torch.stack(valid_3s_tensors).float()/255\n",
    "stacked_valid_7s = torch.stack(valid_7s_tensors).float()/255\n",
    "\n",
    "# cat - Concatenates a sequence of tensor therefore has to be a sequence i.e List, tuple etc\n",
    "valid_x = torch.cat((stacked_valid_3s,stacked_valid_7s)).view(-1, 28*28)\n",
    "valid_y = tensor([1]*len(valid_3s) + [0]*len(valid_7s)).unsqueeze(1)\n",
    "\n",
    "valid_dset = list(zip(valid_x, valid_y))\n",
    "valid_x.shape, valid_y.shape"
   ]
  },
  {
   "cell_type": "code",
   "execution_count": 23,
   "id": "c72d4520",
   "metadata": {
    "scrolled": true
   },
   "outputs": [],
   "source": [
    "#Initialise every pixel with a random weight whose gradient can be retraced and improved\n",
    "\n",
    "def init_params(size):\n",
    "    return (torch.randn(size)).requires_grad_()\n",
    "\n",
    "weights = init_params((28*28, 1))\n",
    "bias = init_params(1)"
   ]
  },
  {
   "cell_type": "code",
   "execution_count": 24,
   "id": "7dfc81ab",
   "metadata": {
    "scrolled": true
   },
   "outputs": [],
   "source": [
    "first_pred = (train_x[0]*weights) + bias"
   ]
  },
  {
   "cell_type": "code",
   "execution_count": 25,
   "id": "6e60555f",
   "metadata": {},
   "outputs": [],
   "source": [
    "#Using matrix multiplication to compute the results of all the input rows\n",
    "\n",
    "\n",
    "def linear(xb):\n",
    "    return xb@weights + bias"
   ]
  },
  {
   "cell_type": "code",
   "execution_count": 26,
   "id": "f018ed1e",
   "metadata": {
    "scrolled": true
   },
   "outputs": [
    {
     "data": {
      "text/plain": [
       "tensor([[-15.7293],\n",
       "        [ -4.4981],\n",
       "        [ -1.0980],\n",
       "        ...,\n",
       "        [  2.2554],\n",
       "        [  1.7438],\n",
       "        [-11.6059]], grad_fn=<AddBackward0>)"
      ]
     },
     "execution_count": 26,
     "metadata": {},
     "output_type": "execute_result"
    }
   ],
   "source": [
    "preds = linear(train_x)\n",
    "preds"
   ]
  },
  {
   "cell_type": "code",
   "execution_count": 27,
   "id": "eb577881",
   "metadata": {},
   "outputs": [
    {
     "data": {
      "text/plain": [
       "tensor(0.5030)"
      ]
     },
     "execution_count": 27,
     "metadata": {},
     "output_type": "execute_result"
    }
   ],
   "source": [
    "#Assuming value > 0 = 3 and 7 otherwise\n",
    "'''Checking our accuracies using broadcasting\n",
    "'''\n",
    "\n",
    "correct = (preds > 0).float() == train_y\n",
    "correct.float().mean()"
   ]
  },
  {
   "cell_type": "code",
   "execution_count": 28,
   "id": "38826da3",
   "metadata": {},
   "outputs": [
    {
     "data": {
      "text/plain": [
       "'Prediction using accuracy as the loss function would result into \"No learning\" since the gradient\\nof a function usually denoted as rise/run would more often than not result to 0 as illustrated below\\n\\ngrad = (y_new-y_old)/(x_new-x_old)\\n\\na slight change in weight would not help much in changing the output of the function hence y_new and \\ny_old would result to the same prediction i.e \\n \\n y_old - y_new  = 0\\n \\n grad = 0/(x_new-x_old) = 0(No learning takes place)\\n \\n-We therefore need a function that whenever a weight results to a better prediction would result to \\na better loss function e.g If the correct answer is 3, the score would be a little higher and if \\nits 7, the score would go a little lower\\n\\nThe function wouldn\\'t receive the images themselves, rather the predictions from the model which would\\nbe a value between 0 and 1. The targets would either be o for 7s and 1 for 3s. The distance between \\nthe predictions and targets, aggregated would result to the loss and each time the weight is updated\\nto the correct direction would result to reduced loss hence \"learning\"\\n\\n'"
      ]
     },
     "execution_count": 28,
     "metadata": {},
     "output_type": "execute_result"
    }
   ],
   "source": [
    "'''Prediction using accuracy as the loss function would result into \"No learning\" since the gradient\n",
    "of a function usually denoted as rise/run would more often than not result to 0 as illustrated below\n",
    "\n",
    "grad = (y_new-y_old)/(x_new-x_old)\n",
    "\n",
    "a slight change in weight would not help much in changing the output of the function hence y_new and \n",
    "y_old would result to the same prediction i.e \n",
    " \n",
    " y_old - y_new  = 0\n",
    " \n",
    " grad = 0/(x_new-x_old) = 0(No learning takes place)\n",
    " \n",
    "-We therefore need a function that whenever a weight results to a better prediction would result to \n",
    "a better loss function e.g If the correct answer is 3, the score would be a little higher and if \n",
    "its 7, the score would go a little lower\n",
    "\n",
    "The function wouldn't receive the images themselves, rather the predictions from the model which would\n",
    "be a value between 0 and 1. The targets would either be o for 7s and 1 for 3s. The distance between \n",
    "the predictions and targets, aggregated would result to the loss and each time the weight is updated\n",
    "to the correct direction would result to reduced loss hence \"learning\"\n",
    "\n",
    "'''"
   ]
  },
  {
   "cell_type": "code",
   "execution_count": 29,
   "id": "888c9ae7",
   "metadata": {},
   "outputs": [
    {
     "data": {
      "text/plain": [
       "tensor(0.9346, grad_fn=<MeanBackward0>)"
      ]
     },
     "execution_count": 29,
     "metadata": {},
     "output_type": "execute_result"
    }
   ],
   "source": [
    "#Better function using pytorch's \"where\" function\n",
    "\n",
    "'''where in torch works like list comprehension in the form illustrated below\n",
    "torch.where(a,b,c)  ---->  [b[i] if a[i] else c[i] for i in range(a)]'''\n",
    "\n",
    "'''One problem with the \"mnist_loss\" function is that is assumes that the prediction will always\n",
    "be between 0 and 1. To ensure that this is always the case we use the sigmoid function as defined\n",
    "below.\n",
    "\n",
    "PyTorch defines an accelerated version for us, so we don’t really need our own'''\n",
    "\n",
    "def mnist_loss(prediction, target):\n",
    "    prediction = prediction.sigmoid()\n",
    "    return torch.where(target == 1, 1-prediction, prediction).mean()\n",
    "\n",
    "mnist_loss(preds[:4], train_y[:4])"
   ]
  },
  {
   "cell_type": "code",
   "execution_count": 30,
   "id": "bf415eb7",
   "metadata": {},
   "outputs": [
    {
     "data": {
      "text/plain": [
       "tensor(0.3677)"
      ]
     },
     "execution_count": 30,
     "metadata": {},
     "output_type": "execute_result"
    }
   ],
   "source": [
    "#Simple examples of predictions and targets to test the mnist_loss function\n",
    "prds = tensor([0.9, 0.1, 0.9])\n",
    "trgts = tensor([1, 0, 1])\n",
    "\n",
    "mnist_loss(prds, trgts)"
   ]
  },
  {
   "cell_type": "code",
   "execution_count": 31,
   "id": "77f4b0e2",
   "metadata": {},
   "outputs": [],
   "source": [
    "collection = list(enumerate(string.ascii_lowercase))"
   ]
  },
  {
   "cell_type": "code",
   "execution_count": 32,
   "id": "1eee2612",
   "metadata": {},
   "outputs": [
    {
     "data": {
      "text/plain": [
       "[(tensor([0, 1, 2, 3, 4]), ('a', 'b', 'c', 'd', 'e')),\n",
       " (tensor([5, 6, 7, 8, 9]), ('f', 'g', 'h', 'i', 'j')),\n",
       " (tensor([10, 11, 12, 13, 14]), ('k', 'l', 'm', 'n', 'o')),\n",
       " (tensor([15, 16, 17, 18, 19]), ('p', 'q', 'r', 's', 't')),\n",
       " (tensor([20, 21, 22, 23, 24]), ('u', 'v', 'w', 'x', 'y')),\n",
       " (tensor([25]), ('z',))]"
      ]
     },
     "execution_count": 32,
     "metadata": {},
     "output_type": "execute_result"
    }
   ],
   "source": [
    "#Example of how a DataLoader works using the ASCII characters\n",
    "\n",
    "'''When we pass a Dataset to a DataLoader we will get back many batches that\n",
    "are themselves tuples of tensors representing batches of independent and dependent\n",
    "variables:\n",
    "'''\n",
    "\n",
    "dl = DataLoader(collection, batch_size = 5)\n",
    "list(dl)"
   ]
  },
  {
   "cell_type": "code",
   "execution_count": 33,
   "id": "ee8f32d3",
   "metadata": {},
   "outputs": [],
   "source": [
    "#Creating both the training and valid dataLoaders\n",
    "training_dl = DataLoader(train_dset, batch_size = 256)\n",
    "valid_dl = DataLoader(valid_dset, batch_size = 256)"
   ]
  },
  {
   "cell_type": "code",
   "execution_count": 34,
   "id": "06106a0b",
   "metadata": {
    "scrolled": true
   },
   "outputs": [
    {
     "data": {
      "text/plain": [
       "(torch.Size([256, 784]), torch.Size([256, 1]))"
      ]
     },
     "execution_count": 34,
     "metadata": {},
     "output_type": "execute_result"
    }
   ],
   "source": [
    "x_data, y_data = first(training_dl)\n",
    "x_data.shape, y_data.unsqueeze(1).shape"
   ]
  },
  {
   "cell_type": "code",
   "execution_count": 35,
   "id": "c9e5bf0a",
   "metadata": {},
   "outputs": [],
   "source": [
    "#Creating a batch that would be used for testing purposes\n",
    "batch = train_x[:4]"
   ]
  },
  {
   "cell_type": "code",
   "execution_count": 36,
   "id": "f00f19ba",
   "metadata": {},
   "outputs": [
    {
     "data": {
      "text/plain": [
       "tensor(0.9346, grad_fn=<MeanBackward0>)"
      ]
     },
     "execution_count": 36,
     "metadata": {},
     "output_type": "execute_result"
    }
   ],
   "source": [
    "'''The loss function provides a means of automated learning by slghtly improving with slight\n",
    "change in confidence level after each iteration. It must be a function that must have a meaningful \n",
    "derivative in order to facilitate this \"learning\".It must not have large flat sections and huge \n",
    "sudden bumps, rather must be reasonably smooth.\n",
    "\n",
    "This, sometimes doesn't really express what we are trying to achieve rather a compromise between\n",
    "our goal and a function that can be optimized by its gradient\n",
    "\n",
    "The loss function is calculated for each item in our dataset, and\n",
    "then at the end of an epoch, the loss values are all averaged and the overall mean is\n",
    "reported for the epoch\n",
    "\n",
    "Metrics on the other hand are the numbers that we care about e.g is the output a 1 or 0.\n",
    "And its therefore important that we focus on these metric rather than the loss function\n",
    "when testing the performance of the model'''\n",
    "\n",
    "predic = linear(batch)\n",
    "\n",
    "loss = mnist_loss(predic, train_y[:4])\n",
    "loss"
   ]
  },
  {
   "cell_type": "code",
   "execution_count": 37,
   "id": "f70b777a",
   "metadata": {},
   "outputs": [
    {
     "data": {
      "text/plain": [
       "'Before simplifying the gradient calculations into the \"calc_grad\" function '"
      ]
     },
     "execution_count": 37,
     "metadata": {},
     "output_type": "execute_result"
    }
   ],
   "source": [
    "'''Before simplifying the gradient calculations into the \"calc_grad\" function '''\n",
    "\n",
    "# def train_epoch(model, params, lr):\n",
    "#     for xd,yd in training_dl:\n",
    "#         preds = model(xd)\n",
    "#         loss = mnist_loss(preds,yd)\n",
    "#         loss.backward()\n",
    "        \n",
    "        \n",
    "#         for p in params:\n",
    "#             p.data -= p.grad.data*lr\n",
    "#             p.grad.zero_()\n",
    "        "
   ]
  },
  {
   "cell_type": "code",
   "execution_count": 38,
   "id": "b0e8513a",
   "metadata": {},
   "outputs": [],
   "source": [
    "def calc_grad(model, x_data, y_data):\n",
    "    preds = model(x_data)\n",
    "    loss = mnist_loss(preds,y_data)\n",
    "    loss.backward()"
   ]
  },
  {
   "cell_type": "code",
   "execution_count": 39,
   "id": "61afb328",
   "metadata": {},
   "outputs": [],
   "source": [
    "def train_epoch(model, params, lr):\n",
    "    for xd,yd in training_dl:\n",
    "        calc_grad(model, xd, yd)\n",
    "        \n",
    "        for p in params:\n",
    "            p.data -= p.grad*lr\n",
    "            p.grad.zero_()"
   ]
  },
  {
   "cell_type": "code",
   "execution_count": 40,
   "id": "e031a638",
   "metadata": {},
   "outputs": [
    {
     "data": {
      "text/plain": [
       "tensor(0.)"
      ]
     },
     "execution_count": 40,
     "metadata": {},
     "output_type": "execute_result"
    }
   ],
   "source": [
    "#Function to determine our validation accuracy\n",
    "\n",
    "'''The \"sigmoid()\" function squishes values to be between 0 - 1. In this case, values with higher\n",
    "confidence in their predictions e.g those close to 0 which are supposed to represent 7 have a high\n",
    "sigmoid function as well as those predictions with values close to 1 and representing 3'''\n",
    "\n",
    "def batch_accuracy(prediction, y_data):\n",
    "    preds = prediction.sigmoid()\n",
    "    correct = (preds > 0.5) == y_data\n",
    "    return correct.float().mean()\n",
    "\n",
    "batch_accuracy(linear(batch), train_y[:4])\n"
   ]
  },
  {
   "cell_type": "code",
   "execution_count": 41,
   "id": "5fc6525d",
   "metadata": {},
   "outputs": [],
   "source": [
    "#Putting all the batches together\n",
    "#Round - Returns a floating-point number rounded off to the specified number of decimals\n",
    "\n",
    "\n",
    "def validate_epoch(model):\n",
    "    acc = [batch_accuracy(model(xd), yd) for xd, yd in training_dl]\n",
    "    return round(torch.stack(acc).mean().item(), 4)"
   ]
  },
  {
   "cell_type": "code",
   "execution_count": 42,
   "id": "a25a6878",
   "metadata": {},
   "outputs": [],
   "source": [
    "#Parameters for train_epoch\n",
    "lr = 1\n",
    "params = weights, bias"
   ]
  },
  {
   "cell_type": "code",
   "execution_count": 43,
   "id": "b496e54b",
   "metadata": {},
   "outputs": [
    {
     "name": "stdout",
     "output_type": "stream",
     "text": [
      "0.7509\n",
      "0.8764\n",
      "0.9149\n",
      "0.9318\n",
      "0.9411\n",
      "0.9473\n",
      "0.952\n",
      "0.9557\n",
      "0.9587\n",
      "0.961\n"
     ]
    }
   ],
   "source": [
    "#Training for 10 iterations\n",
    "\n",
    "for i in range(10):\n",
    "    train_epoch(linear, params, lr)\n",
    "    print(validate_epoch(linear))"
   ]
  },
  {
   "cell_type": "code",
   "execution_count": 44,
   "id": "6ea96481",
   "metadata": {},
   "outputs": [],
   "source": [
    "#CREATING AN OPTIMIZER - Create an object that will handle the SGD part for us\n",
    "\n",
    "'''\n",
    "nn.Linear does the same thing as our init_params and linear together. It\n",
    "contains both the weights and biases in a single class. \n",
    "\n",
    "CLASS torch.nn.Linear(in_features, out_features, bias=True, device=None, dtype=None)\n",
    "\n",
    "in_features – size of each input sample\n",
    "\n",
    "out_features – size of each output sample\n",
    "\n",
    "bias – If set to False, the layer will not learn an additive bias. Default: True\n",
    "\n",
    "\n",
    "The values of the 'weight' and 'bias' are initialized from \n",
    "-1/in_features.sqrt() --- 1/in_features.sqrt().\n",
    "\n",
    "The learnable weights of the module is of the shape (out_features,in_features)\n",
    "\n",
    "The learnable bias of the module is of the shape (out_features)\n",
    "\n",
    "'''\n",
    "\n",
    "linear_model = nn.Linear(28*28, 1) #Initializing parameters and would perform linear computations\n",
    "\n",
    "class BasicOpt:\n",
    "    def __init__(self, parameters, lr):\n",
    "        self.params = list(parameters)\n",
    "        self.lr = lr\n",
    "    \n",
    "    def step(self, *args, **kwargs):\n",
    "        for p in self.params:\n",
    "            p.data -= p.grad.data * self.lr\n",
    "    \n",
    "    def zero_grad(self, *args, **kwargs):\n",
    "        for p in self.params:\n",
    "            p.grad = None\n"
   ]
  },
  {
   "cell_type": "code",
   "execution_count": 45,
   "id": "8cbc44a1",
   "metadata": {},
   "outputs": [],
   "source": [
    "opt = BasicOpt(linear_model.parameters(), lr)\n",
    "\n",
    "#Applying the optimizer in our training function\n",
    "\n",
    "def train_epoch2(model):\n",
    "    for xd, yd in training_dl: #For independent and dependent vars in DataLoader object\n",
    "        calc_grad(model, xd, yd) #Calc gradient of the MNIST loss function\n",
    "        opt.step()\n",
    "        opt.zero_grad()\n",
    "        "
   ]
  },
  {
   "cell_type": "code",
   "execution_count": 46,
   "id": "9ccbd0de",
   "metadata": {},
   "outputs": [],
   "source": [
    "\n",
    "def train_model(model, epoch):\n",
    "    for i in range(epoch):\n",
    "        train_epoch2(model)\n",
    "        print(validate_epoch(model))\n",
    "        "
   ]
  },
  {
   "cell_type": "code",
   "execution_count": 47,
   "id": "5537de5d",
   "metadata": {
    "scrolled": false
   },
   "outputs": [
    {
     "name": "stdout",
     "output_type": "stream",
     "text": [
      "0.4888\n",
      "0.7445\n",
      "0.8504\n",
      "0.9054\n",
      "0.9308\n",
      "0.944\n",
      "0.9519\n",
      "0.9574\n",
      "0.9628\n",
      "0.9666\n"
     ]
    }
   ],
   "source": [
    "train_model(linear_model, 10)"
   ]
  },
  {
   "cell_type": "code",
   "execution_count": 48,
   "id": "630f7fb8",
   "metadata": {},
   "outputs": [
    {
     "name": "stdout",
     "output_type": "stream",
     "text": [
      "0.4888\n",
      "0.9399\n",
      "0.7858\n",
      "0.8871\n",
      "0.9214\n",
      "0.9391\n",
      "0.949\n",
      "0.9546\n",
      "0.9606\n",
      "0.9651\n"
     ]
    }
   ],
   "source": [
    "#Fastai provides us with SGD function that has the same functionality as BasicOpt\n",
    "\n",
    "linear_model = nn.Linear(28*28, 1)\n",
    "opt = SGD(linear_model.parameters(), lr)\n",
    "train_model(linear_model, 10)"
   ]
  },
  {
   "cell_type": "code",
   "execution_count": 49,
   "id": "f3ba38ef",
   "metadata": {},
   "outputs": [],
   "source": [
    "#Fastai also provides us with \"Learner.fit()\" that can be used in stead of\"train_model()\"\n",
    "'''To create a Learner, we need to create a DataLoaders containing the Dataloader of the training\n",
    "and the valiation dataset\n",
    "\n",
    "NOTE: DataLoaders - To be used in creating Learner\n",
    "      DataLoader - Created from input data and output data for training and valid data'''\n",
    "\n",
    "dls = DataLoaders(training_dl, valid_dl)"
   ]
  },
  {
   "cell_type": "code",
   "execution_count": 50,
   "id": "414e4d9a",
   "metadata": {},
   "outputs": [],
   "source": [
    "'''To create the learner we'll have to pass in all the elements we have created soo far i.e\n",
    "Learner(dataloaders, model, optimizer_function, loss_function, metric-optional)'''\n",
    "\n",
    "my_learner = Learner(dls, nn.Linear(28*28, 1), opt_func=SGD, loss_func=mnist_loss, metrics=batch_accuracy)"
   ]
  },
  {
   "cell_type": "code",
   "execution_count": 51,
   "id": "ceca0f8f",
   "metadata": {},
   "outputs": [
    {
     "data": {
      "text/html": [
       "<table border=\"1\" class=\"dataframe\">\n",
       "  <thead>\n",
       "    <tr style=\"text-align: left;\">\n",
       "      <th>epoch</th>\n",
       "      <th>train_loss</th>\n",
       "      <th>valid_loss</th>\n",
       "      <th>batch_accuracy</th>\n",
       "      <th>time</th>\n",
       "    </tr>\n",
       "  </thead>\n",
       "  <tbody>\n",
       "    <tr>\n",
       "      <td>0</td>\n",
       "      <td>0.637428</td>\n",
       "      <td>0.503105</td>\n",
       "      <td>0.495584</td>\n",
       "      <td>00:00</td>\n",
       "    </tr>\n",
       "    <tr>\n",
       "      <td>1</td>\n",
       "      <td>0.420727</td>\n",
       "      <td>0.267778</td>\n",
       "      <td>0.751717</td>\n",
       "      <td>00:00</td>\n",
       "    </tr>\n",
       "    <tr>\n",
       "      <td>2</td>\n",
       "      <td>0.160808</td>\n",
       "      <td>0.163409</td>\n",
       "      <td>0.854269</td>\n",
       "      <td>00:00</td>\n",
       "    </tr>\n",
       "    <tr>\n",
       "      <td>3</td>\n",
       "      <td>0.073817</td>\n",
       "      <td>0.101495</td>\n",
       "      <td>0.916094</td>\n",
       "      <td>00:00</td>\n",
       "    </tr>\n",
       "    <tr>\n",
       "      <td>4</td>\n",
       "      <td>0.041665</td>\n",
       "      <td>0.075418</td>\n",
       "      <td>0.935231</td>\n",
       "      <td>00:00</td>\n",
       "    </tr>\n",
       "    <tr>\n",
       "      <td>5</td>\n",
       "      <td>0.029008</td>\n",
       "      <td>0.061040</td>\n",
       "      <td>0.947007</td>\n",
       "      <td>00:00</td>\n",
       "    </tr>\n",
       "    <tr>\n",
       "      <td>6</td>\n",
       "      <td>0.023697</td>\n",
       "      <td>0.051969</td>\n",
       "      <td>0.955839</td>\n",
       "      <td>00:00</td>\n",
       "    </tr>\n",
       "    <tr>\n",
       "      <td>7</td>\n",
       "      <td>0.021251</td>\n",
       "      <td>0.045874</td>\n",
       "      <td>0.962709</td>\n",
       "      <td>00:00</td>\n",
       "    </tr>\n",
       "    <tr>\n",
       "      <td>8</td>\n",
       "      <td>0.019954</td>\n",
       "      <td>0.041558</td>\n",
       "      <td>0.965653</td>\n",
       "      <td>00:00</td>\n",
       "    </tr>\n",
       "    <tr>\n",
       "      <td>9</td>\n",
       "      <td>0.019143</td>\n",
       "      <td>0.038360</td>\n",
       "      <td>0.967125</td>\n",
       "      <td>00:00</td>\n",
       "    </tr>\n",
       "  </tbody>\n",
       "</table>"
      ],
      "text/plain": [
       "<IPython.core.display.HTML object>"
      ]
     },
     "metadata": {},
     "output_type": "display_data"
    }
   ],
   "source": [
    "my_learner.fit(10, 1)"
   ]
  },
  {
   "cell_type": "code",
   "execution_count": null,
   "id": "5517fd21",
   "metadata": {},
   "outputs": [],
   "source": []
  },
  {
   "cell_type": "markdown",
   "id": "33a4f3c7",
   "metadata": {},
   "source": [
    "## Using Neural Network instead of a linear Model"
   ]
  },
  {
   "cell_type": "code",
   "execution_count": 52,
   "id": "86da57cf",
   "metadata": {},
   "outputs": [],
   "source": [
    "'''Linear functions are constrained in what they can do. To improve on the linear functions we\n",
    "introduce non-linearity between two linear functions. This is what gives us the Neural Network'''\n",
    "\n",
    "'''2. To make the model more complex such that it can perfom more computations, we introduce\n",
    "non-linearity whereby a more complex function e.g ReLU is put between two linear classifiers\n",
    "to form layers that would be our basis for neural networks\n",
    "\n",
    "The code max(tensor(0.0)) is what we call the RelU which simply replaces all the negative numbers\n",
    "with a zero'''\n",
    "\n",
    "def simple_net(xd):\n",
    "    res = xd@w1 + b1\n",
    "    res = res.max(tensor(0.0))\n",
    "    res = xd@w2 + b2\n",
    "    return res\n"
   ]
  },
  {
   "cell_type": "code",
   "execution_count": 53,
   "id": "29db282a",
   "metadata": {},
   "outputs": [],
   "source": [
    "#MORE INFORMATION ON ITS PARAMETERS AND HOW THEY WORK\n",
    "\n",
    "\n",
    "w1 = init_params((28*28, 30))\n",
    "b1 = init_params(1)\n",
    "\n",
    "w2 = init_params((30, 1))\n",
    "b2 = init_params(1)"
   ]
  },
  {
   "cell_type": "code",
   "execution_count": 54,
   "id": "a4b27920",
   "metadata": {},
   "outputs": [
    {
     "data": {
      "text/plain": [
       "\"The above parameters are the weights and biases that are used in the simple network that are\\ninitially randomly initialized\\n\\nImportantly to note, w1 has 30 output activations and w2 has 30 input activations and therefore\\nthey match. w1 can therefore construct 30 different features due to different mix of pixels and\\none can change the number 30 to any other number to increase or decrease the network's complexity\\n\\n\\n\\n\""
      ]
     },
     "execution_count": 54,
     "metadata": {},
     "output_type": "execute_result"
    }
   ],
   "source": [
    "'''The above parameters are the weights and biases that are used in the simple network that are\n",
    "initially randomly initialized\n",
    "\n",
    "Importantly to note, w1 has 30 output activations and w2 has 30 input activations and therefore\n",
    "they match. w1 can therefore construct 30 different features due to different mix of pixels and\n",
    "one can change the number 30 to any other number to increase or decrease the network's complexity\n",
    "\n",
    "\n",
    "\n",
    "'''"
   ]
  },
  {
   "cell_type": "code",
   "execution_count": 55,
   "id": "422a2f01",
   "metadata": {},
   "outputs": [],
   "source": [
    "#The above can be put into a simpler form with the help of pytorch\n",
    "\n",
    "simple_net = nn.Sequential(\n",
    "    nn.Linear(28*28, 30),\n",
    "    nn.ReLU(),\n",
    "    nn.Linear(30, 1)\n",
    ")"
   ]
  },
  {
   "cell_type": "code",
   "execution_count": 56,
   "id": "851fb48c",
   "metadata": {},
   "outputs": [
    {
     "data": {
      "text/html": [
       "<table border=\"1\" class=\"dataframe\">\n",
       "  <thead>\n",
       "    <tr style=\"text-align: left;\">\n",
       "      <th>epoch</th>\n",
       "      <th>train_loss</th>\n",
       "      <th>valid_loss</th>\n",
       "      <th>batch_accuracy</th>\n",
       "      <th>time</th>\n",
       "    </tr>\n",
       "  </thead>\n",
       "  <tbody>\n",
       "    <tr>\n",
       "      <td>0</td>\n",
       "      <td>0.166191</td>\n",
       "      <td>0.491819</td>\n",
       "      <td>0.504416</td>\n",
       "      <td>00:00</td>\n",
       "    </tr>\n",
       "    <tr>\n",
       "      <td>1</td>\n",
       "      <td>0.095126</td>\n",
       "      <td>0.176645</td>\n",
       "      <td>0.832188</td>\n",
       "      <td>00:00</td>\n",
       "    </tr>\n",
       "    <tr>\n",
       "      <td>2</td>\n",
       "      <td>0.046297</td>\n",
       "      <td>0.106872</td>\n",
       "      <td>0.900393</td>\n",
       "      <td>00:00</td>\n",
       "    </tr>\n",
       "    <tr>\n",
       "      <td>3</td>\n",
       "      <td>0.029080</td>\n",
       "      <td>0.073950</td>\n",
       "      <td>0.930815</td>\n",
       "      <td>00:00</td>\n",
       "    </tr>\n",
       "    <tr>\n",
       "      <td>4</td>\n",
       "      <td>0.021636</td>\n",
       "      <td>0.059403</td>\n",
       "      <td>0.943572</td>\n",
       "      <td>00:00</td>\n",
       "    </tr>\n",
       "    <tr>\n",
       "      <td>5</td>\n",
       "      <td>0.018124</td>\n",
       "      <td>0.050599</td>\n",
       "      <td>0.951423</td>\n",
       "      <td>00:00</td>\n",
       "    </tr>\n",
       "    <tr>\n",
       "      <td>6</td>\n",
       "      <td>0.016168</td>\n",
       "      <td>0.045299</td>\n",
       "      <td>0.957311</td>\n",
       "      <td>00:00</td>\n",
       "    </tr>\n",
       "    <tr>\n",
       "      <td>7</td>\n",
       "      <td>0.014869</td>\n",
       "      <td>0.041872</td>\n",
       "      <td>0.961236</td>\n",
       "      <td>00:00</td>\n",
       "    </tr>\n",
       "    <tr>\n",
       "      <td>8</td>\n",
       "      <td>0.013944</td>\n",
       "      <td>0.039446</td>\n",
       "      <td>0.962709</td>\n",
       "      <td>00:00</td>\n",
       "    </tr>\n",
       "    <tr>\n",
       "      <td>9</td>\n",
       "      <td>0.013195</td>\n",
       "      <td>0.037627</td>\n",
       "      <td>0.962709</td>\n",
       "      <td>00:00</td>\n",
       "    </tr>\n",
       "    <tr>\n",
       "      <td>10</td>\n",
       "      <td>0.012565</td>\n",
       "      <td>0.035987</td>\n",
       "      <td>0.964181</td>\n",
       "      <td>00:00</td>\n",
       "    </tr>\n",
       "    <tr>\n",
       "      <td>11</td>\n",
       "      <td>0.012078</td>\n",
       "      <td>0.034421</td>\n",
       "      <td>0.965653</td>\n",
       "      <td>00:00</td>\n",
       "    </tr>\n",
       "    <tr>\n",
       "      <td>12</td>\n",
       "      <td>0.011711</td>\n",
       "      <td>0.032994</td>\n",
       "      <td>0.968597</td>\n",
       "      <td>00:00</td>\n",
       "    </tr>\n",
       "    <tr>\n",
       "      <td>13</td>\n",
       "      <td>0.011469</td>\n",
       "      <td>0.031686</td>\n",
       "      <td>0.970559</td>\n",
       "      <td>00:00</td>\n",
       "    </tr>\n",
       "    <tr>\n",
       "      <td>14</td>\n",
       "      <td>0.011323</td>\n",
       "      <td>0.030557</td>\n",
       "      <td>0.970069</td>\n",
       "      <td>00:00</td>\n",
       "    </tr>\n",
       "    <tr>\n",
       "      <td>15</td>\n",
       "      <td>0.011195</td>\n",
       "      <td>0.029620</td>\n",
       "      <td>0.971050</td>\n",
       "      <td>00:00</td>\n",
       "    </tr>\n",
       "    <tr>\n",
       "      <td>16</td>\n",
       "      <td>0.011042</td>\n",
       "      <td>0.028749</td>\n",
       "      <td>0.972522</td>\n",
       "      <td>00:00</td>\n",
       "    </tr>\n",
       "    <tr>\n",
       "      <td>17</td>\n",
       "      <td>0.010856</td>\n",
       "      <td>0.027873</td>\n",
       "      <td>0.973994</td>\n",
       "      <td>00:00</td>\n",
       "    </tr>\n",
       "    <tr>\n",
       "      <td>18</td>\n",
       "      <td>0.010649</td>\n",
       "      <td>0.027056</td>\n",
       "      <td>0.975466</td>\n",
       "      <td>00:00</td>\n",
       "    </tr>\n",
       "    <tr>\n",
       "      <td>19</td>\n",
       "      <td>0.010436</td>\n",
       "      <td>0.026361</td>\n",
       "      <td>0.975466</td>\n",
       "      <td>00:00</td>\n",
       "    </tr>\n",
       "    <tr>\n",
       "      <td>20</td>\n",
       "      <td>0.010227</td>\n",
       "      <td>0.025797</td>\n",
       "      <td>0.975957</td>\n",
       "      <td>00:00</td>\n",
       "    </tr>\n",
       "    <tr>\n",
       "      <td>21</td>\n",
       "      <td>0.010026</td>\n",
       "      <td>0.025356</td>\n",
       "      <td>0.976448</td>\n",
       "      <td>00:00</td>\n",
       "    </tr>\n",
       "    <tr>\n",
       "      <td>22</td>\n",
       "      <td>0.009832</td>\n",
       "      <td>0.025016</td>\n",
       "      <td>0.976448</td>\n",
       "      <td>00:00</td>\n",
       "    </tr>\n",
       "    <tr>\n",
       "      <td>23</td>\n",
       "      <td>0.009642</td>\n",
       "      <td>0.024753</td>\n",
       "      <td>0.976448</td>\n",
       "      <td>00:00</td>\n",
       "    </tr>\n",
       "    <tr>\n",
       "      <td>24</td>\n",
       "      <td>0.009458</td>\n",
       "      <td>0.024548</td>\n",
       "      <td>0.976938</td>\n",
       "      <td>00:00</td>\n",
       "    </tr>\n",
       "    <tr>\n",
       "      <td>25</td>\n",
       "      <td>0.009287</td>\n",
       "      <td>0.024374</td>\n",
       "      <td>0.976938</td>\n",
       "      <td>00:00</td>\n",
       "    </tr>\n",
       "    <tr>\n",
       "      <td>26</td>\n",
       "      <td>0.009139</td>\n",
       "      <td>0.024211</td>\n",
       "      <td>0.976938</td>\n",
       "      <td>00:00</td>\n",
       "    </tr>\n",
       "    <tr>\n",
       "      <td>27</td>\n",
       "      <td>0.009017</td>\n",
       "      <td>0.024050</td>\n",
       "      <td>0.976938</td>\n",
       "      <td>00:00</td>\n",
       "    </tr>\n",
       "    <tr>\n",
       "      <td>28</td>\n",
       "      <td>0.008915</td>\n",
       "      <td>0.023892</td>\n",
       "      <td>0.976938</td>\n",
       "      <td>00:00</td>\n",
       "    </tr>\n",
       "    <tr>\n",
       "      <td>29</td>\n",
       "      <td>0.008828</td>\n",
       "      <td>0.023744</td>\n",
       "      <td>0.976448</td>\n",
       "      <td>00:00</td>\n",
       "    </tr>\n",
       "    <tr>\n",
       "      <td>30</td>\n",
       "      <td>0.008749</td>\n",
       "      <td>0.023603</td>\n",
       "      <td>0.976938</td>\n",
       "      <td>00:00</td>\n",
       "    </tr>\n",
       "    <tr>\n",
       "      <td>31</td>\n",
       "      <td>0.008675</td>\n",
       "      <td>0.023472</td>\n",
       "      <td>0.976938</td>\n",
       "      <td>00:00</td>\n",
       "    </tr>\n",
       "    <tr>\n",
       "      <td>32</td>\n",
       "      <td>0.008604</td>\n",
       "      <td>0.023349</td>\n",
       "      <td>0.976938</td>\n",
       "      <td>00:00</td>\n",
       "    </tr>\n",
       "    <tr>\n",
       "      <td>33</td>\n",
       "      <td>0.008535</td>\n",
       "      <td>0.023232</td>\n",
       "      <td>0.976448</td>\n",
       "      <td>00:00</td>\n",
       "    </tr>\n",
       "    <tr>\n",
       "      <td>34</td>\n",
       "      <td>0.008469</td>\n",
       "      <td>0.023123</td>\n",
       "      <td>0.976938</td>\n",
       "      <td>00:00</td>\n",
       "    </tr>\n",
       "    <tr>\n",
       "      <td>35</td>\n",
       "      <td>0.008407</td>\n",
       "      <td>0.023022</td>\n",
       "      <td>0.977429</td>\n",
       "      <td>00:00</td>\n",
       "    </tr>\n",
       "    <tr>\n",
       "      <td>36</td>\n",
       "      <td>0.008349</td>\n",
       "      <td>0.022926</td>\n",
       "      <td>0.977429</td>\n",
       "      <td>00:00</td>\n",
       "    </tr>\n",
       "    <tr>\n",
       "      <td>37</td>\n",
       "      <td>0.008298</td>\n",
       "      <td>0.022837</td>\n",
       "      <td>0.977429</td>\n",
       "      <td>00:00</td>\n",
       "    </tr>\n",
       "    <tr>\n",
       "      <td>38</td>\n",
       "      <td>0.008253</td>\n",
       "      <td>0.022756</td>\n",
       "      <td>0.977429</td>\n",
       "      <td>00:00</td>\n",
       "    </tr>\n",
       "    <tr>\n",
       "      <td>39</td>\n",
       "      <td>0.008214</td>\n",
       "      <td>0.022680</td>\n",
       "      <td>0.977429</td>\n",
       "      <td>00:00</td>\n",
       "    </tr>\n",
       "  </tbody>\n",
       "</table>"
      ],
      "text/plain": [
       "<IPython.core.display.HTML object>"
      ]
     },
     "metadata": {},
     "output_type": "display_data"
    }
   ],
   "source": [
    "#Replacing the above code with something simpler provided by pytorch\n",
    "\n",
    "'''nn.sequential creates a module that will call each of the listed layers or functions in turn'''\n",
    "\n",
    "neural_learner = Learner(dls, simple_net, opt_func=SGD, loss_func = mnist_loss, metrics = batch_accuracy)\n",
    "\n",
    "neural_learner.fit(40, lr)"
   ]
  },
  {
   "cell_type": "code",
   "execution_count": 57,
   "id": "70ce18fd",
   "metadata": {},
   "outputs": [
    {
     "data": {
      "image/png": "[encoded data removed]",
      "text/plain": [
       "<Figure size 432x288 with 1 Axes>"
      ]
     },
     "metadata": {
      "needs_background": "light"
     },
     "output_type": "display_data"
    }
   ],
   "source": [
    "'''ALSO: ; the training process is recorded in \"learn.recorder\", with the table of output stored in \n",
    "the \"values\" attribute, so we can plot the accuracy over training:\n",
    "\n",
    "Saving on space from computing the elements as shown above but to get an overview of how learning went\n",
    "'''\n",
    "plt.plot(L(neural_learner.recorder.values).itemgot(2));\n"
   ]
  }
 ],
 "metadata": {
  "kernelspec": {
   "display_name": "machine_learning",
   "language": "python",
   "name": "machine_learning"
  },
  "language_info": {
   "codemirror_mode": {
    "name": "ipython",
    "version": 3
   },
   "file_extension": ".py",
   "mimetype": "text/x-python",
   "name": "python",
   "nbconvert_exporter": "python",
   "pygments_lexer": "ipython3",
   "version": "3.8.5"
  }
 },
 "nbformat": 4,
 "nbformat_minor": 5
}
